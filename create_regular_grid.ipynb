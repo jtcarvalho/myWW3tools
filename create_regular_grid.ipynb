{
 "cells": [
  {
   "cell_type": "markdown",
   "metadata": {},
   "source": [
    "### WW3 regular grid generation \n",
    "\n",
    "\n",
    "I'm using gridgen (https://github.com/NOAA-EMC/gridgen). Its a matlab program, executing at my local\n",
    "machine with octave. Steps:\n",
    "\n",
    "1) Generate a conda env for octave and install (pip install octave)\n",
    "2) Need to install netcdf4 for octave \n",
    "3) Download etopo data \n",
    "4) Load octave on terminal and \n",
    "5) Edit and execute run \"create_area.m\"\n",
    "\n",
    "\n",
    "ETOPO download link (https://www.ncei.noaa.gov/products/etopo-global-relief-model). Sometimes gridgen didnt like the variables' name or dimension. I downloaded the old version (https://www.ngdc.noaa.gov/mgg/global/relief/ETOPO1/data/bedrock/grid_registered/netcdf/), gmt4 option. The most recent didnt work, and I didnt want to take time to investigate it.\n"
   ]
  },
  {
   "cell_type": "markdown",
   "metadata": {},
   "source": [
    "ETOPO data need to be at reference_data/, and the scripts to run are at examples/\n",
    "All file (bathymetry, mask, obs) will be at output/ to be used for ww3_grid.inp.\n",
    "\n",
    "For multi grid its necessary to change the mask, updating boundaries with the value 2. The script that do this is: \n",
    "### - prep2mask.py  \n",
    "\n",
    "But when running WW3 for the first time (ww3_multi) it will probably complain for some points that are not ok (very close to land), so its necessary to adjust manually the problematic points (edit the mask file loading it and changing the point from 2 to 1), its not automatically yet.  "
   ]
  }
 ],
 "metadata": {
  "kernelspec": {
   "display_name": "plots",
   "language": "python",
   "name": "python3"
  },
  "language_info": {
   "codemirror_mode": {
    "name": "ipython",
    "version": 3
   },
   "file_extension": ".py",
   "mimetype": "text/x-python",
   "name": "python",
   "nbconvert_exporter": "python",
   "pygments_lexer": "ipython3",
   "version": "3.11.0"
  }
 },
 "nbformat": 4,
 "nbformat_minor": 2
}
