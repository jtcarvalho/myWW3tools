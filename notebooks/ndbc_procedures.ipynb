{
 "cells": [
  {
   "cell_type": "markdown",
   "metadata": {},
   "source": [
    "### NDBC buoys \n",
    "\n",
    "\n",
    "There are many options to get the NDBC data on github. I'm using NDBC (https://pypi.org/project/NDBC) lib (pip install NDBC).\n",
    "\n",
    "1) I use a list of available buoys at NDBC website (https://www.ndbc.noaa.gov/) to download the stations:\n",
    "   python getNDBC.py \n",
    "2) Generate a dictionary with the stations list in order to get the same buoy location to extract from the model (WW3)\n",
    "3) Extraction the wave data from WW3:\n",
    "   python getVarWW3.py\n",
    "4) \n",
    "5) \n",
    "\n",
    "\n"
   ]
  }
 ],
 "metadata": {
  "kernelspec": {
   "display_name": "plots",
   "language": "python",
   "name": "python3"
  },
  "language_info": {
   "codemirror_mode": {
    "name": "ipython",
    "version": 3
   },
   "file_extension": ".py",
   "mimetype": "text/x-python",
   "name": "python",
   "nbconvert_exporter": "python",
   "pygments_lexer": "ipython3",
   "version": "3.11.0"
  }
 },
 "nbformat": 4,
 "nbformat_minor": 2
}
