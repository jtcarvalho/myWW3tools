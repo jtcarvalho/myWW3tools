{
 "cells": [
  {
   "cell_type": "markdown",
   "metadata": {},
   "source": [
    "### WW3 regular grid generation \n",
    "\n",
    "\n",
    "I'm using gridgen (https://github.com/NOAA-EMC/gridgen). Its a matlab program, but executing at my local\n",
    "machine with octave. Steps:\n",
    "\n",
    "1) Generate a conda env for octave and install (pip install octave)\n",
    "2) Need to install netcdf4 for octave \n",
    "3) Download etopo data \n",
    "4) Load octave on terminal and \n",
    "5) Edit and execute run \"create_area.m\"\n",
    "\n",
    "For the future look for a python version or SMC grids.\n",
    "\n",
    "Etopo is download here (https://www.ncei.noaa.gov/products/etopo-global-relief-model). Sometimes gridgen didnt like the variables' name or dimension. I downloaded the old version (https://www.ngdc.noaa.gov/mgg/global/relief/ETOPO1/data/bedrock/grid_registered/netcdf/), gmt4 option. The most recent didnt worked, and I didnt want to take time to investigate it.\n"
   ]
  },
  {
   "cell_type": "markdown",
   "metadata": {},
   "source": [
    "Etopo data need to be at reference_data/, and the scripts to run are at examples/\n",
    "All file (bathymetry, mask, obs) will be at output/ to be used for ww3_grid.inp.\n",
    "\n",
    "For multi grid its necessary to change the mask boundaries, updating with the value 2. There is a script to do this. But when running WW3 it will complain for some points that are not ok, so its necessary to adjust manually the problematic points.  "
   ]
  },

 ],
 "metadata": {
  "language_info": {
   "name": "python"
  }
 },
 "nbformat": 4,
 "nbformat_minor": 2
}
